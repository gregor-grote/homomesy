{
 "cells": [
  {
   "cell_type": "markdown",
   "id": "4c1ec5f6",
   "metadata": {},
   "source": [
    "# Dyck Path GUIs\n",
    "This file contains two GUIs for visualizing Dyck paths.\n",
    "\n",
    "The first one lets you choose a Set and you can iterate through all elements of the set, showing the Dyck path and the area and label sequences.\n",
    "The second one lets you choose a Combinatorial Element and shows the (rational) Dyck path of the element.\n"
   ]
  },
  {
   "cell_type": "code",
   "execution_count": null,
   "id": "658756af",
   "metadata": {},
   "outputs": [
    {
     "name": "stdout",
     "output_type": "stream",
     "text": [
      "Downloading data for Permutations\n",
      "Downloading data for Parking functions\n",
      "done downloading data\n",
      "printing stats...\n",
      "{'Permutations': CollectionWithMapsAndStats(collection=<class 'sage.combinat.permutation.Permutations'>, name='Permutations', stats=[St000001: The number of reduced words for a permutation., St000002: The number of occurrences of the pattern 123 in a permutation., St000004: The major index of a permutation., St000007: The number of saliances of the permutation., St000018: The number of inversions of a permutation., St000019: The cardinality of the support of a permutation., St000020: The rank of the permutation., St000021: The number of descents of a permutation., St000022: The number of fixed points of a permutation., St000023: The number of inner peaks of a permutation., St000028: The number of stack-sorts needed to sort a permutation., St000029: The depth of a permutation., St000030: The sum of the descent differences of a permutations., St000031: The number of cycles in the cycle decomposition of a permutation., St000033: The number of permutations greater than or equal to the given permutation in (strong) Bruhat order., St000034: The maximum defect over any reduced expression for a permutation and any subexpression., St000035: The number of left outer peaks of a permutation., St000036: The evaluation at 1 of the Kazhdan-Lusztig polynomial with parameters given by the identity and the permutation., St000037: The sign of a permutation., St000039: The number of crossings of a permutation., St000040: The number of regions of the inversion arrangement of a permutation., St000054: The first entry of the permutation., St000055: The inversion sum of a permutation., St000056: The decomposition (or block) number of a permutation., St000058: The order of a permutation., St000060: The greater neighbor of the maximum., St000062: The length of the longest increasing subsequence of the permutation., St000064: The number of one-box pattern of a permutation., St000078: The number of alternating sign matrices whose left key is the permutation., St000092: The number of outer peaks of a permutation., St000099: The number of valleys of a permutation, including the boundary., St000109: The number of elements less than or equal to the given element in Bruhat order., St000110: The number of permutations less than or equal to a permutation in left weak order., St000111: The sum of the descent tops (or Genocchi descents) of a permutation., St000119: The number of occurrences of the pattern 321 in a permutation., St000123: The difference in Coxeter length of a permutation and its image under the Simion-Schmidt map., St000124: The cardinality of the preimage of the Simion-Schmidt map., St000133: The \"bounce\" of a permutation., St000141: The maximum drop size of a permutation., St000153: The number of adjacent cycles of a permutation., St000154: The sum of the descent bottoms of a permutation., St000155: The number of exceedances (also excedences) of a permutation., St000156: The Denert index of a permutation., St000162: The number of nontrivial cycles in the cycle decomposition of a permutation., St000209: Maximum difference of elements in cycles., St000210: Minimum over maximum difference of elements in cycles., St000213: The number of weak exceedances (also weak excedences) of a permutation., St000214: The number of adjacencies of a permutation., St000215: The number of adjacencies of a permutation, zero appended., St000216: The absolute length of a permutation., St000217: The number of occurrences of the pattern 312 in a permutation., St000218: The number of occurrences of the pattern 213 in a permutation., St000219: The number of occurrences of the pattern 231 in a permutation., St000220: The number of occurrences of the pattern 132 in a permutation., St000221: The number of strong fixed points of a permutation., St000222: The number of alignments in the permutation., St000223: The number of nestings in the permutation., St000224: The sorting index of a permutation., St000226: The convexity of a permutation., St000234: The number of global ascents of a permutation., St000235: The number of indices that are not cyclical small weak excedances., St000236: The number of cyclical small weak excedances., St000237: The number of small exceedances., St000238: The number of indices that are not small weak excedances., St000239: The number of small weak excedances., St000240: The number of indices that are not small excedances., St000241: The number of cyclical small excedances., St000242: The number of indices that are not cyclical small weak excedances., St000243: The number of cyclic valleys and cyclic peaks of a permutation., St000245: The number of ascents of a permutation., St000246: The number of non-inversions of a permutation., St000255: The number of reduced Kogan faces with the permutation as type., St000279: The size of the preimage of the map 'cycle-as-one-line notation' from Permutations to Permutations., St000280: The size of the preimage of the map 'to labelling permutation' from Parking functions to Permutations., St000304: The load of a permutation., St000305: The inverse major index of a permutation., St000308: The height of the tree associated to a permutation., St000314: The number of left-to-right-maxima of a permutation., St000316: The number of non-left-to-right-maxima of a permutation., St000317: The cycle descent number of a permutation., St000324: The shape of the tree associated to a permutation., St000325: The width of the tree associated to a permutation., St000333: The dez statistic, the number of descents of a permutation after replacing fixed points by zeros., St000334: The maz index, the major index of a permutation after replacing fixed points by zeros., St000337: The lec statistic, the sum of the inversion numbers of the hook factors of a permutation., St000338: The number of pixed points of a permutation., St000339: The maf index of a permutation., St000341: The non-inversion sum of a permutation., St000342: The cosine of a permutation., St000352: The Elizalde-Pak rank of a permutation., St000353: The number of inner valleys of a permutation., St000354: The number of recoils of a permutation., St000355: The number of occurrences of the pattern 21-3., St000356: The number of occurrences of the pattern 13-2., St000357: The number of occurrences of the pattern 12-3., St000358: The number of occurrences of the pattern 31-2., St000359: The number of occurrences of the pattern 23-1., St000360: The number of occurrences of the pattern 32-1., St000365: The number of double ascents of a permutation., St000366: The number of double descents of a permutation., St000367: The number of simsun double descents of a permutation., St000371: The number of mid points of decreasing subsequences of length 3 in a permutation., St000372: The number of mid points of increasing subsequences of length 3 in a permutation., St000373: The number of weak exceedences of a permutation that are also mid-points of a decreasing subsequence of length $3$., St000374: The number of exclusive right-to-left minima of a permutation., St000375: The number of non weak exceedences of a permutation that are mid-points of a decreasing subsequence of length $3$., St000401: The size of the symmetry class of a permutation., St000402: Half the size of the symmetry class of a permutation., St000404: The number of occurrences of the pattern 3241 or of the pattern 4231 in a permutation., St000405: The number of occurrences of the pattern 1324 in a permutation., St000406: The number of occurrences of the pattern 3241 in a permutation., St000407: The number of occurrences of the pattern 2143 in a permutation., St000408: The number of occurrences of the pattern 4231 in a permutation., St000423: The number of occurrences of the pattern 123 or of the pattern 132 in a permutation., St000424: The number of occurrences of the pattern 132 or of the pattern 231 in a permutation., St000425: The number of occurrences of the pattern 132 or of the pattern 213 in a permutation., St000426: The number of occurrences of the pattern 132 or of the pattern 312 in a permutation., St000427: The number of occurrences of the pattern 123 or of the pattern 231 in a permutation., St000428: The number of occurrences of the pattern 123 or of the pattern 213 in a permutation., St000429: The number of occurrences of the pattern 123 or of the pattern 321 in a permutation., St000430: The number of occurrences of the pattern 123 or of the pattern 312 in a permutation., St000431: The number of occurrences of the pattern 213 or of the pattern 321 in a permutation., St000432: The number of occurrences of the pattern 231 or of the pattern 312 in a permutation., St000433: The number of occurrences of the pattern 132 or of the pattern 321 in a permutation., St000434: The number of occurrences of the pattern 213 or of the pattern 312 in a permutation., St000435: The number of occurrences of the pattern 213 or of the pattern 231 in a permutation., St000436: The number of occurrences of the pattern 231 or of the pattern 321 in a permutation., St000437: The number of occurrences of the pattern 312 or of the pattern 321 in a permutation., St000440: The number of occurrences of the pattern 4132 or of the pattern 4231 in a permutation., St000441: The number of successions of a permutation., St000446: The disorder of a permutation., St000451: The length of the longest pattern of the form k 1 2., St000457: The number of occurrences of one of the patterns 132, 213 or 321 in a permutation., St000458: The number of permutations obtained by switching adjacencies or successions., St000461: The rix statistic of a permutation., St000462: The major index minus the number of excedences of a permutation., St000463: The number of admissible inversions of a permutation., St000470: The number of runs in a permutation., St000471: The sum of the ascent tops of a permutation., St000472: The sum of the ascent bottoms of a permutation., St000483: The number of times a permutation switches from increasing to decreasing or decreasing to increasing., St000484: The sum of St000483 over all subsequences of length at least three., St000485: The length of the longest cycle of a permutation., St000486: The number of cycles of length at least 3 of a permutation., St000487: The length of the shortest cycle of a permutation., St000488: The number of cycles of a permutation of length at most 2., St000489: The number of cycles of a permutation of length at most 3., St000494: The number of inversions of distance at most 3 of a permutation., St000495: The number of inversions of distance at most 2 of a permutation., St000500: Eigenvalues of the random-to-random operator acting on the regular representation., St000501: The size of the first part in the decomposition of a permutation., St000516: The number of stretching pairs of a permutation., St000520: The number of patterns in a permutation., St000530: The number of permutations with the same descent word as the given permutation., St000534: The number of 2-rises of a permutation., St000538: The number of even inversions of a permutation., St000539: The number of odd inversions of a permutation., St000541: The number of indices greater than or equal to 2 of a permutation such that all smaller indices appear to its right., St000542: The number of left-to-right-minima of a permutation., St000545: The number of parabolic double cosets with minimal element being the given permutation., St000546: The number of global descents of a permutation., St000570: The Edelman-Greene number of a permutation., St000616: The inversion index of a permutation., St000619: The number of cyclic descents of a permutation., St000622: The number of occurrences of the patterns 2143 or 4231 in a permutation., St000623: The number of occurrences of the pattern 52341 in a permutation., St000624: The normalized sum of the minimal distances to a greater element., St000625: The sum of the minimal distances to a greater element., St000638: The number of up-down runs of a permutation., St000646: The number of big ascents of a permutation., St000647: The number of big descents of a permutation., St000648: The number of 2-excedences of a permutation., St000649: The number of 3-excedences of a permutation., St000650: The number of 3-rises of a permutation., St000651: The maximal size of a rise in a permutation., St000652: The maximal difference between successive positions of a permutation., St000653: The last descent of a permutation., St000654: The first descent of a permutation., St000662: The staircase size of the code of a permutation., St000663: The number of right floats of a permutation., St000664: The number of right ropes of a permutation., St000665: The number of rafts of a permutation., St000666: The number of right tethers of a permutation., St000669: The number of permutations obtained by switching ascents or descents of size 2., St000670: The reversal length of a permutation., St000672: The number of minimal elements in Bruhat order not less than the permutation., St000673: The number of non-fixed points of a permutation., St000677: The standardized bi-alternating inversion number of a permutation., St000690: The size of the conjugacy class of a permutation., St000692: Babson and Steingrímsson's statistic of a permutation., St000694: The number of affine bounded permutations that project to a given permutation., St000696: The number of cycles in the breakpoint graph of a permutation., St000702: The number of weak deficiencies of a permutation., St000703: The number of deficiencies of a permutation., St000709: The number of occurrences of 14-2-3 or 14-3-2., St000710: The number of big deficiencies of a permutation., St000711: The number of big exceedences of a permutation., St000724: The label of the leaf of the path following the smaller label in the increasing binary tree associated to a permutation., St000725: The smallest label of a leaf of the increasing binary tree associated to a permutation., St000726: The normalized sum of the leaf labels of the increasing binary tree associated to a permutation., St000727: The largest label of a leaf in the binary search tree associated with the permutation., St000731: The number of double exceedences of a permutation., St000732: The number of double deficiencies of a permutation., St000740: The last entry of a permutation., St000742: The number of big ascents of a permutation after prepending zero., St000750: The number of occurrences of the pattern 4213 in a permutation., St000751: The number of occurrences of either of the pattern 2143 or 2143 in a permutation., St000756: The sum of the positions of the left to right maxima of a permutation., St000779: The tier of a permutation., St000794: The mak of a permutation., St000795: The mad of a permutation., St000796: The stat' of a permutation., St000797: The stat`` of a permutation., St000798: The makl of a permutation., St000799: The number of occurrences of the vincular pattern |213 in a permutation., St000800: The number of occurrences of the vincular pattern |231 in a permutation., St000801: The number of occurrences of the vincular pattern |312 in a permutation., St000802: The number of occurrences of the vincular pattern |321 in a permutation., St000803: The number of occurrences of the vincular pattern |132 in a permutation., St000804: The number of occurrences of the vincular pattern |123 in a permutation., St000809: The reduced reflection length of the permutation., St000824: The sum of the number of descents and the number of recoils of a permutation., St000825: The sum of the major and the inverse major index of a permutation., St000828: The spearman's rho of a permutation and the identity permutation., St000829: The Ulam distance of a permutation to the identity permutation., St000830: The total displacement of a permutation., St000831: The number of indices that are either descents or recoils., St000832: The number of permutations obtained by reversing blocks of three consecutive numbers., St000833: The comajor index of a permutation., St000834: The number of right outer peaks of a permutation., St000836: The number of descents of distance 2 of a permutation., St000837: The number of ascents of distance 2 of a permutation., St000842: The breadth of a permutation., St000844: The size of the largest block in the direct sum decomposition of a permutation., St000862: The number of parts of the shifted shape of a permutation., St000863: The length of the first row of the shifted shape of a permutation., St000864: The number of circled entries of the shifted recording tableau of a permutation., St000866: The number of admissible inversions of a permutation in the sense of Shareshian-Wachs., St000868: The aid statistic in the sense of Shareshian-Wachs., St000871: The number of very big ascents of a permutation., St000872: The number of very big descents of a permutation., St000873: The aix statistic of a permutation., St000879: The number of long braid edges in the graph of braid moves of a permutation., St000880: The number of connected components of long braid edges in the graph of braid moves of a permutation., St000881: The number of short braid edges in the graph of braid moves of a permutation., St000882: The number of connected components of short braid edges in the graph of braid moves of a permutation., St000883: The number of longest increasing subsequences of a permutation., St000884: The number of isolated descents of a permutation., St000886: The number of permutations with the same antidiagonal sums., St000887: The maximal number of nonzero entries on a diagonal of a permutation matrix., St000891: The number of distinct diagonal sums of a permutation matrix., St000923: The minimal number with no two order isomorphic substrings of this length in a permutation., St000956: The maximal displacement of a permutation., St000957: The number of Bruhat lower covers of a permutation., St000958: The number of Bruhat factorizations of a permutation., St000959: The number of strong Bruhat factorizations of a permutation., St000961: The shifted major index of a permutation., St000962: The 3-shifted major index of a permutation., St000963: The 2-shifted major index of a permutation., St000988: The orbit size of a permutation under Foata's bijection., St000989: The number of final rises of a permutation., St000990: The first ascent of a permutation., St000991: The number of right-to-left minima of a permutation., St000994: The number of cycle peaks and the number of cycle valleys of a permutation., St000996: The number of exclusive left-to-right maxima of a permutation., St001004: The number of indices that are either left-to-right maxima or right-to-left minima., St001005: The number of indices for a permutation that are either left-to-right maxima or right-to-left minima but not both., St001052: The length of the exterior of a permutation., St001059: Number of occurrences of the patterns 41352,42351,51342,52341 in a permutation., St001061: The number of indices that are both descents and recoils of a permutation., St001074: The number of inversions of the cyclic embedding of a permutation., St001076: The minimal length of a factorization of a permutation into transpositions that are cyclic shifts of (12)., St001077: The prefix exchange distance of a permutation., St001078: The minimal number of occurrences of (12) in a factorization of a permutation into transpositions (12) and cycles (1,., St001079: The minimal length of a factorization of a permutation using the permutations (12)(34)., St001080: The minimal length of a factorization of a permutation using the transposition (12) and the cycle (1,., St001081: The number of minimal length factorizations of a permutation into star transpositions., St001082: The number of boxed occurrences of 123 in a permutation., St001083: The number of boxed occurrences of 132 in a permutation., St001084: The number of occurrences of the vincular pattern |1-23 in a permutation., St001085: The number of occurrences of the vincular pattern |21-3 in a permutation., St001086: The number of occurrences of the consecutive pattern 132 in a permutation., St001087: The number of occurrences of the vincular pattern |12-3 in a permutation., St001090: The number of pop-stack-sorts needed to sort a permutation., St001096: The size of the overlap set of a permutation., St001114: The number of odd descents of a permutation., St001115: The number of even descents of a permutation., St001130: The number of two successive successions in a permutation., St001160: The number of proper blocks (or intervals) of a permutations., St001162: The minimum jump of a permutation., St001168: The vector space dimension of the tilting module corresponding to the permutation in the Auslander algebra of $K[x]/(x^n)$., St001171: The vector space dimension of $Ext_A^1(I_o,A)$ when $I_o$ is the tilting module corresponding to the permutation $o$ in the Auslander algebra $A$ of $K[x]/(x^n)$., St001174: The Gorenstein dimension of the algebra $A/I$ when $I$ is the tilting module corresponding to the permutation in the Auslander algebra of $K[x]/(x^n)$., St001207: The Lowey length of the algebra $A/T$ when $T$ is the 1-tilting module corresponding to the permutation in the Auslander algebra of $K[x]/(x^n)$., St001208: The number of connected components of the quiver of $A/T$ when $T$ is the 1-tilting module corresponding to the permutation in the Auslander algebra $A$ of $K[x]/(x^n)$., St001220: The width of a permutation., St001245: The cyclic maximal difference between two consecutive entries of a permutation., St001246: The maximal difference between two consecutive entries of a permutation., St001269: The sum of the minimum of the number of exceedances and deficiencies in each cycle of a permutation., St001285: The number of primes in the column sums of the two line notation of a permutation., St001287: The number of primes obtained by multiplying preimage and image of a permutation and subtracting one., St001288: The number of primes obtained by multiplying preimage and image of a permutation and adding one., St001293: The sum of all $1/(i+\\pi(i))$ for a permutation $\\pi$ times the lcm of all possible values among permutations of the same length., St001298: The number of repeated entries in the Lehmer code of a permutation., St001332: The number of steps on the non-negative side of the walk associated with the permutation., St001344: The neighbouring number of a permutation., St001346: The number of parking functions that give the same permutation., St001359: The number of permutations in the equivalence class of a permutation obtained by taking inverses of cycles., St001375: The pancake length of a permutation., St001377: The major index minus the number of inversions of a permutation., St001379: The number of inversions plus the major index of a permutation., St001381: The fertility of a permutation., St001388: The number of non-attacking neighbors of a permutation., St001390: The number of bumps occurring when Schensted-inserting the letter 1 of a permutation., St001394: The genus of a permutation., St001402: The number of separators in a permutation., St001403: The number of vertical separators in a permutation., St001405: The number of bonds in a permutation., St001411: The number of patterns 321 or 3412 in a permutation., St001412: Number of minimal entries in the Bruhat order matrix of a permutation., St001439: The number of even weak deficiencies and of odd weak exceedences., St001461: The number of topologically connected components of the chord diagram of a permutation., St001464: The number of bases of the positroid corresponding to the permutation, with all fixed points counterclockwise., St001465: The number of adjacent transpositions in the cycle decomposition of a permutation., St001466: The number of transpositions swapping cyclically adjacent numbers in a permutation., St001468: The smallest fixpoint of a permutation., St001469: The holeyness of a permutation., St001470: The cyclic holeyness of a permutation., St001482: The product of the prefix sums of a permutation., St001489: The maximum of the number of descents and the number of inverse descents., St001497: The position of the largest weak excedence of a permutation., St001511: The minimal number of transpositions needed to sort a permutation in either direction., St001513: The number of nested exceedences of a permutation., St001516: The number of cyclic bonds of a permutation., St001517: The length of a longest pair of twins in a permutation., St001519: The pinnacle sum of a permutation., St001520: The number of strict 3-descents., St001528: The number of permutations such that the product with the permutation has the same number of fixed points., St001535: The number of cyclic alignments of a permutation., St001536: The number of cyclic misalignments of a permutation., St001537: The number of cyclic crossings of a permutation., St001549: The number of restricted non-inversions between exceedances., St001550: The number of inversions between exceedances where the greater exceedance is linked., St001551: The number of restricted non-inversions between exceedances where the rightmost exceedance is linked., St001552: The number of inversions between excedances and fixed points of a permutation., St001556: The number of inversions of the third entry of a permutation., St001557: The number of inversions of the second entry of a permutation., St001558: The number of transpositions that are smaller or equal to a permutation in Bruhat order., St001559: The number of transpositions that are smaller or equal to a permutation in Bruhat order while not being inversions., St001560: The product of the cardinalities of the lower order ideal and upper order ideal generated by a permutation in weak order., St001565: The number of arithmetic progressions of length 2 in a permutation., St001566: The length of the longest arithmetic progression in a permutation., St001569: The maximal modular displacement of a permutation., St001579: The number of cyclically simple transpositions decreasing the number of cyclic descents needed to sort a permutation., St001582: The grades of the simple modules corresponding to the points in the poset of the symmetric group under the Bruhat order., St001583: The projective dimension of the simple module corresponding to the point in the poset of the symmetric group under bruhat order., St001639: The number of alternating subsets such that applying the permutation does not yield an alternating subset., St001640: The number of ascent tops in the permutation such that all smaller elements appear before., St001652: The length of a longest interval of consecutive numbers., St001661: Half the permanent of the Identity matrix plus the permutation matrix associated to the permutation., St001662: The length of the longest factor of consecutive numbers in a permutation., St001663: The number of occurrences of the Hertzsprung pattern 132 in a permutation., St001665: The number of pure excedances of a permutation., St001667: The maximal size of a pair of weak twins for a permutation., St001671: Haglund's hag of a permutation., St001682: The number of distinct positions of the pattern letter 1 in occurrences of 123 in a permutation., St001683: The number of distinct positions of the pattern letter 3 in occurrences of 132 in a permutation., St001684: The reduced word complexity of a permutation., St001685: The number of distinct positions of the pattern letter 1 in occurrences of 132 in a permutation., St001687: The number of distinct positions of the pattern letter 2 in occurrences of 213 in a permutation., St001705: The number of occurrences of the pattern 2413 in a permutation., St001715: The number of non-records in a permutation., St001726: The number of visible inversions of a permutation., St001727: The number of invisible inversions of a permutation., St001728: The number of invisible descents of a permutation., St001729: The number of visible descents of a permutation., St001731: The factorization defect of a permutation., St001735: The number of permutations with the same set of runs., St001737: The number of descents of type 2 in a permutation., St001741: The largest integer such that all patterns of this size are contained in the permutation., St001744: The number of occurrences of the arrow pattern 1-2 with an arrow from 1 to 2 in a permutation., St001745: The number of occurrences of the arrow pattern 13 with an arrow from 1 to 2 in a permutation., St001759: The Rajchgot index of a permutation., St001760: The number of prefix or suffix reversals needed to sort a permutation., St001761: The maximal multiplicity of a letter in a reduced word of a permutation., St001766: The number of cells which are not occupied by the same tile in all reduced pipe dreams corresponding to a permutation., St001778: The largest greatest common divisor of an element and its image in a permutation., St001801: Half the number of preimage-image pairs of different parity in a permutation., St001806: The upper middle entry of a permutation., St001807: The lower middle entry of a permutation., St001810: The number of fixed points of a permutation smaller than its largest moved point., St001811: The Castelnuovo-Mumford regularity of a permutation., St001847: The number of occurrences of the pattern 1432 in a permutation., St001850: The number of Hecke atoms of a permutation., St001856: The number of edges in the reduced word graph of a permutation., St001859: The number of factors of the Stanley symmetric function associated with a permutation., St001874: Lusztig's a-function for the symmetric group., St001906: Half of the difference between the total displacement and the number of inversions and the reflection length of a permutation., St001911: A descent variant minus the number of inversions., St001928: The number of non-overlapping descents in a permutation., St001941: The evaluation at 1 of the modified Kazhdan--Lusztig R polynomial (as in [1, Section 5., St001948: The number of augmented double ascents of a permutation., St001958: The degree of the polynomial interpolating the values of a permutation., St001960: The number of descents of a permutation minus one if its first entry is not one.], maps=[Mp00062: Lehmer-code to major-code bijection, Mp00064: reverse, Mp00066: inverse, Mp00067: Foata bijection, Mp00069: complement, Mp00073: major-index to inversion-number bijection, Mp00086: first fundamental transformation, Mp00087: inverse first fundamental transformation, Mp00088: Kreweras complement, Mp00089: Inverse Kreweras complement, Mp00126: cactus evacuation, Mp00149: Lehmer code rotation, Mp00175: inverse Foata bijection, Mp00235: descent views to invisible inversion bottoms, Mp00236: Clarke-Steingrimsson-Zeng inverse, Mp00237: descent views to invisible inversion bottoms, Mp00238: Clarke-Steingrimsson-Zeng, Mp00239: Corteel, Mp00241: invert Laguerre heap, Mp00257: Alexandersson Kebede, Mp00265: conjugation by long cycle, Mp00279: Backward Rotation, Mp00309: inverse toric promotion, Mp00310: toric promotion, Mp00325: ones to leading, Mp00326: weak order rowmotion, Mp00329: Tanimoto], element_constructor=<class 'sage.combinat.permutation.Permutation'>), 'Parking functions': CollectionWithMapsAndStats(collection=<class 'sage.combinat.parking_functions.ParkingFunctions'>, name='Parking functions', stats=[St000135: The number of lucky cars of the parking function., St000136: The dinv of a parking function., St000165: The sum of the entries of a parking function., St000188: The area of the Dyck path corresponding to a parking function and the total displacement of a parking function., St000194: The number of primary dinversion pairs of a labelled dyck path corresponding to a parking function., St000195: The number of secondary dinversion pairs of the dyck path corresponding to a parking function., St000540: The sum of the entries of a parking function minus its length., St000942: The number of critical left to right maxima of the parking functions., St000943: The number of spots the most unlucky car had to go further in a parking function., St001209: The pmaj statistic of a parking function., St001903: The number of fixed points of a parking function., St001904: The length of the initial strictly increasing segment of a parking function., St001905: The number of preferred parking spots in a parking function less than the index of the car., St001935: The number of ascents in a parking function., St001937: The size of the center of a parking function., St001946: The number of descents in a parking function., St001947: The number of ties in a parking function.], maps=[Mp00293: rotate front-to-back, Mp00298: repeats to leading, Mp00299: ones to leading, Mp00300: leading to ones, Mp00301: leading to repeats, Mp00303: complement, Mp00304: rotate back-to-front, Mp00320: reverse], element_constructor=<class 'sage.combinat.parking_functions.ParkingFunction'>)}\n",
      "Checking parking functions maps on Fubini rankings\n"
     ]
    },
    {
     "name": "stderr",
     "output_type": "stream",
     "text": [
      "<string>:23: DeprecationWarning: parameter 'sort' will be set to False by default in the future\n",
      "See https://github.com/sagemath/sage/issues/35889 for details.\n",
      "<string>:30: DeprecationWarning: parameter 'sort' will be set to False by default in the future\n",
      "See https://github.com/sagemath/sage/issues/35889 for details.\n"
     ]
    },
    {
     "name": "stdout",
     "output_type": "stream",
     "text": [
      "done checking maps\n",
      "Checking parking functions maps on Cayley permutations\n",
      "done checking maps\n",
      "Initialization complete. You can now use the homomesy module.\n"
     ]
    }
   ],
   "source": [
    "from ipywidgets import interact\n",
    "import ipywidgets as widgets\n",
    "from homomesy import *\n",
    "import matplotlib.pyplot as plt\n",
    "from matplotlib.patches import Rectangle"
   ]
  },
  {
   "cell_type": "code",
   "execution_count": 7,
   "id": "ce018b25",
   "metadata": {},
   "outputs": [],
   "source": [
    "\n",
    "def get_label_sequence(p):\n",
    "    r = []\n",
    "    for i in range(1, len(p) + 1):\n",
    "        for j, e in enumerate(p):\n",
    "            if e == i:\n",
    "                r.append(j + 1)\n",
    "    return r\n",
    "\n",
    "def get_area_sequence(p):\n",
    "    sp = sorted(p)\n",
    "    return [i - e + 1 for i,e in enumerate(sp)]\n",
    "\n",
    "def plot_dyck_path(p, scale=5.0):\n",
    "    plt.figure(figsize=(scale, scale))\n",
    "    number_counts = {i: 0 for i in range(1, len(p) + 1)}\n",
    "    for e in p:\n",
    "        number_counts[e] += 1\n",
    "    \n",
    "    for i in range(len(p) + 1):\n",
    "        plt.plot([i, i], [0, len(p)], c=\"gray\", linestyle='dashed', linewidth=1)\n",
    "        plt.plot([0, len(p)], [i, i], c=\"gray\", linestyle='dashed', linewidth=1)\n",
    "    \n",
    "    cur_y = 0\n",
    "    \n",
    "    for i in range(1, len(p) + 1):\n",
    "        plt.plot([i - 1, i - 1, i], [cur_y, cur_y + number_counts[i], cur_y + number_counts[i]], c=\"black\", linewidth=4)\n",
    "        cur_y += number_counts[i]\n",
    "    \n",
    "    plt.plot([0, len(p)],[0, len(p)], c=\"black\", linestyle='dashed', linewidth=4)\n",
    "    ax = plt.gca()\n",
    "        \n",
    "    for i, a in enumerate(get_area_sequence(p)):\n",
    "        if a == 0:\n",
    "            continue\n",
    "        ax.add_patch(Rectangle((i, i), -a, 1, fill=True, color=\"tomato\", alpha=1))\n",
    "    \n",
    "    ax.xaxis.set_visible(False)\n",
    "    ax.yaxis.set_ticks([i + 0.5 for i in range(len(p))], [l for l in get_label_sequence(p)])\n",
    "    ax.yaxis.set_tick_params(labelsize=20)\n",
    "    \n",
    "    \n",
    "    plt.show()\n",
    "\n"
   ]
  },
  {
   "cell_type": "code",
   "execution_count": 8,
   "id": "181998c7",
   "metadata": {},
   "outputs": [],
   "source": [
    "def get_label_sequence_for_rational(p):\n",
    "    r = []\n",
    "    for i in range(1, max(p) + 1):\n",
    "        for j, e in enumerate(p):\n",
    "            if e == i:\n",
    "                r.append(j + 1)\n",
    "    return r\n",
    "\n",
    "def plot_rational_dyck_path(p, scale=5.0):\n",
    "    x_width = max(p)\n",
    "    y_width = len(p)\n",
    "    \n",
    "    plt.figure(figsize=(scale, float(y_width) / float(x_width) * scale))\n",
    "    number_counts = {i: 0 for i in range(1, max((len(p) + 1), x_width + 1))}\n",
    "    \n",
    "    for e in p:\n",
    "        number_counts[e] += 1\n",
    "    \n",
    "    for i in range(x_width+1):\n",
    "        plt.plot([i, i], [0, y_width], c=\"gray\", linestyle='dashed', linewidth=1)\n",
    "    for i in range(y_width+1):\n",
    "        plt.plot([0, x_width], [i, i], c=\"gray\", linestyle='dashed', linewidth=1)\n",
    "    \n",
    "    cur_y = 0\n",
    "    \n",
    "    for i in range(1, x_width+1):\n",
    "        plt.plot([i - 1, i - 1, i], [cur_y, cur_y + number_counts[i], cur_y + number_counts[i]], c=\"black\", linewidth=4)\n",
    "        cur_y += number_counts[i]\n",
    "    \n",
    "    plt.plot([0, x_width],[0, y_width], c=\"black\", linestyle='dashed', linewidth=4)\n",
    "    ax = plt.gca()\n",
    "        \n",
    "    \n",
    "    ax.xaxis.set_visible(False)\n",
    "    ax.yaxis.set_ticks([i + 0.5 for i in range(y_width)], [l for l in list(get_label_sequence_for_rational(p))])\n",
    "    ax.yaxis.set_tick_params(labelsize=20)\n",
    "    \n",
    "    \n",
    "    plt.show()\n",
    "    \n"
   ]
  },
  {
   "cell_type": "code",
   "execution_count": 9,
   "id": "64ca5683",
   "metadata": {},
   "outputs": [
    {
     "data": {
      "application/vnd.jupyter.widget-view+json": {
       "model_id": "7cb8a1c7418a47179999ec5fcffbf417",
       "version_major": 2,
       "version_minor": 0
      },
      "text/plain": [
       "interactive(children=(Text(value='1111', description='Element:'), Dropdown(description='Iterate through', opti…"
      ]
     },
     "metadata": {},
     "output_type": "display_data"
    },
    {
     "data": {
      "text/plain": [
       "<function __main__.plot_element(perm, **kwargs)>"
      ]
     },
     "execution_count": 9,
     "metadata": {},
     "output_type": "execute_result"
    }
   ],
   "source": [
    "element_field = widgets.Text(\n",
    "    value=\"1111\", description=\"Element:\"\n",
    ")\n",
    "iterate_trough_drop = widgets.Dropdown(\n",
    "    options=[(c.name, c) for c in (\n",
    "        all_collections[\"Parking functions\"],\n",
    "        all_collections[\"Cayley permutations\"],\n",
    "        all_collections[\"Fubini rankings\"],\n",
    "        )], description=\"Iterate through\"\n",
    ")\n",
    "n_silder = widgets.IntSlider(value=4, min=1, max=7, step=1, description=\"n\")\n",
    "\n",
    "cur_col = all_collections[\"Parking functions\"].collection(n_silder.value)\n",
    "\n",
    "element_idx_slider = widgets.IntSlider(value=0, min=0, max=len(cur_col) - 1, step=1, description=\"Element index\")\n",
    "\n",
    "scale_slider = widgets.FloatSlider(value=5, min=1, max=20, step=1, description=\"Scale\")\n",
    "\n",
    "\n",
    "def on_n_update(*args):\n",
    "    global cur_col\n",
    "    cur_col = iterate_trough_drop.value.collection(n_silder.value)\n",
    "    element_idx_slider.max = len(cur_col) - 1\n",
    "    element_idx_slider.value = 0\n",
    "    element_field.value = \"\".join(map(str, list(cur_col[element_idx_slider.value])))\n",
    "\n",
    "def on_update_iterate_trough(*args):\n",
    "    global cur_col\n",
    "    cur_col = iterate_trough_drop.value.collection(n_silder.value)\n",
    "    element_idx_slider.max = len(cur_col) - 1\n",
    "    element_idx_slider.value = 0\n",
    "    element_field.value = \"\".join(map(str, list(cur_col[element_idx_slider.value])))\n",
    "    \n",
    "def on_update_element_idx(*args):\n",
    "    element_field.value = \"\".join(map(str, list(cur_col[element_idx_slider.value])))\n",
    "    \n",
    "iterate_trough_drop.observe(on_update_iterate_trough, \"value\")\n",
    "element_idx_slider.observe(on_update_element_idx, \"value\")\n",
    "n_silder.observe(on_n_update, \"value\")\n",
    "\n",
    "def print_info_line(i, j, A, L):\n",
    "    print(f\"({i + 1}, {j + 1}): L_{i+1} = {L[i]}, L_{j+1} = {L[j]}, A_{i+1} = {A[i]}, A_{j+1} = {A[j]}, sdiv = {L[i] > L[j] and A[i] == A[j] + 1}\")\n",
    "\n",
    "def plot_element(perm, **kwargs):\n",
    "    p = list([int(x) for x in perm])\n",
    "    plot_dyck_path(p)\n",
    "    A = get_area_sequence(p)\n",
    "    L = get_label_sequence(p)\n",
    "    \n",
    "    print(\" i | A | L\")\n",
    "    print(\"---+---+---\")\n",
    "    for i, a, l in zip(range(len(p)), A, L):\n",
    "        print(f\" {i + 1} | {a} | {l}\")\n",
    "        \n",
    "    print(\"\\n\")\n",
    "        \n",
    "    for i in range(len(p)):\n",
    "        for j in range(i + 1, len(p)):\n",
    "            print_info_line(i, j, A, L)\n",
    "            \n",
    "            \n",
    "    print(\"\\n where L_i > L_j\")\n",
    "    for i in range(len(p)):\n",
    "        for j in range(i + 1, len(p)):\n",
    "            if L[i] > L[j]:\n",
    "                print_info_line(i, j, A, L)\n",
    "                \n",
    "                \n",
    "    print(\"\\n where A_i = A_j + 1\")\n",
    "    for i in range(len(p)):\n",
    "        for j in range(i + 1, len(p)):\n",
    "            if A[i] == A[j] + 1:\n",
    "                print_info_line(i, j, A, L)\n",
    "    \n",
    "        \n",
    "\n",
    "interact(\n",
    "    plot_element,\n",
    "    perm=element_field,\n",
    "    iterate_trough=iterate_trough_drop,\n",
    "    n=n_silder,\n",
    "    element_idx=element_idx_slider,    \n",
    "    \n",
    ")\n",
    "    "
   ]
  },
  {
   "cell_type": "code",
   "execution_count": 12,
   "id": "c65a4ec7",
   "metadata": {},
   "outputs": [
    {
     "data": {
      "application/vnd.jupyter.widget-view+json": {
       "model_id": "0a83cb6d60124a6f92fed6ef89a4b597",
       "version_major": 2,
       "version_minor": 0
      },
      "text/plain": [
       "interactive(children=(Text(value='1112', description='Element:'), FloatSlider(value=5.0, description='Scale', …"
      ]
     },
     "metadata": {},
     "output_type": "display_data"
    },
    {
     "data": {
      "text/plain": [
       "<function __main__.plot_element(p, scale)>"
      ]
     },
     "execution_count": 12,
     "metadata": {},
     "output_type": "execute_result"
    }
   ],
   "source": [
    "element_field = widgets.Text(\n",
    "    value=\"1112\", description=\"Element:\"\n",
    ")\n",
    "scale_slider = widgets.FloatSlider(value=5, min=1, max=20, step=1, description=\"Scale\")\n",
    "\n",
    "def plot_element(p, scale):\n",
    "    if \",\" in p:\n",
    "        plot_rational_dyck_path(list([int(x) for x in p.split(\",\")]), scale)\n",
    "    else:\n",
    "        plot_rational_dyck_path(list([int(x) for x in p]), scale)\n",
    "    \n",
    "\n",
    "interact(   \n",
    "    plot_element,\n",
    "    p=element_field,\n",
    "    scale=scale_slider\n",
    ")\n",
    "\n",
    "\n"
   ]
  },
  {
   "cell_type": "code",
   "execution_count": null,
   "id": "03143b25",
   "metadata": {},
   "outputs": [],
   "source": []
  }
 ],
 "metadata": {
  "kernelspec": {
   "display_name": "Python 3 (ipykernel)",
   "language": "python",
   "name": "python3"
  },
  "language_info": {
   "codemirror_mode": {
    "name": "ipython",
    "version": 3
   },
   "file_extension": ".py",
   "mimetype": "text/x-python",
   "name": "python",
   "nbconvert_exporter": "python",
   "pygments_lexer": "ipython3",
   "version": "3.12.5"
  }
 },
 "nbformat": 4,
 "nbformat_minor": 5
}
